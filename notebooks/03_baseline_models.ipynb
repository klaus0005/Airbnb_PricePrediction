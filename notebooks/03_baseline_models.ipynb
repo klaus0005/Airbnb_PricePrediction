{
 "cells": [
  {
   "cell_type": "markdown",
   "metadata": {},
   "source": [
    "# 03 - Baseline Models\n",
    "\n",
    "This notebook implements baseline models for Airbnb price prediction."
   ]
  },
  {
   "cell_type": "code",
   "execution_count": 1,
   "metadata": {
    "execution": {
     "iopub.execute_input": "2025-07-04T20:49:57.934430Z",
     "iopub.status.busy": "2025-07-04T20:49:57.934148Z",
     "iopub.status.idle": "2025-07-04T20:49:59.318513Z",
     "shell.execute_reply": "2025-07-04T20:49:59.318226Z"
    }
   },
   "outputs": [],
   "source": [
    "import pandas as pd\n",
    "import numpy as np\n",
    "import matplotlib.pyplot as plt\n",
    "import seaborn as sns\n",
    "from sklearn.model_selection import train_test_split, cross_val_score\n",
    "from sklearn.linear_model import LinearRegression, Ridge, Lasso\n",
    "from sklearn.ensemble import RandomForestRegressor, GradientBoostingRegressor\n",
    "from sklearn.metrics import mean_squared_error, mean_absolute_error, r2_score\n",
    "from sklearn.preprocessing import StandardScaler\n",
    "import warnings\n",
    "warnings.filterwarnings('ignore')\n",
    "\n",
    "# Set style\n",
    "plt.style.use('seaborn-v0_8')\n",
    "sns.set_palette(\"husl\")"
   ]
  },
  {
   "cell_type": "markdown",
   "metadata": {},
   "source": [
    "## Load Data"
   ]
  },
  {
   "cell_type": "code",
   "execution_count": 2,
   "metadata": {
    "execution": {
     "iopub.execute_input": "2025-07-04T20:49:59.320312Z",
     "iopub.status.busy": "2025-07-04T20:49:59.320152Z",
     "iopub.status.idle": "2025-07-04T20:49:59.492967Z",
     "shell.execute_reply": "2025-07-04T20:49:59.492686Z"
    }
   },
   "outputs": [
    {
     "name": "stdout",
     "output_type": "stream",
     "text": [
      "Dataset shape: (7096, 79)\n"
     ]
    },
    {
     "data": {
      "text/html": [
       "<div>\n",
       "<style scoped>\n",
       "    .dataframe tbody tr th:only-of-type {\n",
       "        vertical-align: middle;\n",
       "    }\n",
       "\n",
       "    .dataframe tbody tr th {\n",
       "        vertical-align: top;\n",
       "    }\n",
       "\n",
       "    .dataframe thead th {\n",
       "        text-align: right;\n",
       "    }\n",
       "</style>\n",
       "<table border=\"1\" class=\"dataframe\">\n",
       "  <thead>\n",
       "    <tr style=\"text-align: right;\">\n",
       "      <th></th>\n",
       "      <th>id</th>\n",
       "      <th>listing_url</th>\n",
       "      <th>scrape_id</th>\n",
       "      <th>last_scraped</th>\n",
       "      <th>source</th>\n",
       "      <th>name</th>\n",
       "      <th>description</th>\n",
       "      <th>picture_url</th>\n",
       "      <th>host_id</th>\n",
       "      <th>host_url</th>\n",
       "      <th>...</th>\n",
       "      <th>calculated_host_listings_count_private_rooms</th>\n",
       "      <th>calculated_host_listings_count_shared_rooms</th>\n",
       "      <th>reviews_per_month</th>\n",
       "      <th>price_per_person</th>\n",
       "      <th>description_length</th>\n",
       "      <th>dist_center</th>\n",
       "      <th>avail_frac</th>\n",
       "      <th>sent_mean</th>\n",
       "      <th>rev_count</th>\n",
       "      <th>geo_cluster</th>\n",
       "    </tr>\n",
       "  </thead>\n",
       "  <tbody>\n",
       "    <tr>\n",
       "      <th>0</th>\n",
       "      <td>97945</td>\n",
       "      <td>https://www.airbnb.com/rooms/97945</td>\n",
       "      <td>0.0</td>\n",
       "      <td>2025-03-19</td>\n",
       "      <td>city scrape</td>\n",
       "      <td>Deluxw-Apartm. with roof terrace</td>\n",
       "      <td>Enjoy the simple life at this quiet and centra...</td>\n",
       "      <td>https://a0.muscache.com/pictures/2459996/10b4c...</td>\n",
       "      <td>517685</td>\n",
       "      <td>https://www.airbnb.com/users/show/517685</td>\n",
       "      <td>...</td>\n",
       "      <td>0</td>\n",
       "      <td>0</td>\n",
       "      <td>-0.044211</td>\n",
       "      <td>-0.067181</td>\n",
       "      <td>-1.785823</td>\n",
       "      <td>50.794769</td>\n",
       "      <td>0.213699</td>\n",
       "      <td>0.464175</td>\n",
       "      <td>126.0</td>\n",
       "      <td>8</td>\n",
       "    </tr>\n",
       "    <tr>\n",
       "      <th>1</th>\n",
       "      <td>114695</td>\n",
       "      <td>https://www.airbnb.com/rooms/114695</td>\n",
       "      <td>0.0</td>\n",
       "      <td>2025-03-19</td>\n",
       "      <td>city scrape</td>\n",
       "      <td>Apartment Munich/East with sundeck</td>\n",
       "      <td>Enjoy the simple life at this quiet and centra...</td>\n",
       "      <td>https://a0.muscache.com/pictures/21571874/960e...</td>\n",
       "      <td>581737</td>\n",
       "      <td>https://www.airbnb.com/users/show/581737</td>\n",
       "      <td>...</td>\n",
       "      <td>0</td>\n",
       "      <td>0</td>\n",
       "      <td>-0.235088</td>\n",
       "      <td>-0.462938</td>\n",
       "      <td>-1.785823</td>\n",
       "      <td>49.902293</td>\n",
       "      <td>0.580822</td>\n",
       "      <td>0.571723</td>\n",
       "      <td>78.0</td>\n",
       "      <td>7</td>\n",
       "    </tr>\n",
       "    <tr>\n",
       "      <th>2</th>\n",
       "      <td>127383</td>\n",
       "      <td>https://www.airbnb.com/rooms/127383</td>\n",
       "      <td>0.0</td>\n",
       "      <td>2025-03-20</td>\n",
       "      <td>previous scrape</td>\n",
       "      <td>City apartment next to Pinakothek</td>\n",
       "      <td>Enjoy the simple life at this quiet and centra...</td>\n",
       "      <td>https://a0.muscache.com/pictures/79238c11-bc61...</td>\n",
       "      <td>630556</td>\n",
       "      <td>https://www.airbnb.com/users/show/630556</td>\n",
       "      <td>...</td>\n",
       "      <td>0</td>\n",
       "      <td>0</td>\n",
       "      <td>-0.095111</td>\n",
       "      <td>-0.385534</td>\n",
       "      <td>-1.785823</td>\n",
       "      <td>49.035222</td>\n",
       "      <td>0.008219</td>\n",
       "      <td>0.418847</td>\n",
       "      <td>116.0</td>\n",
       "      <td>1</td>\n",
       "    </tr>\n",
       "    <tr>\n",
       "      <th>3</th>\n",
       "      <td>159634</td>\n",
       "      <td>https://www.airbnb.com/rooms/159634</td>\n",
       "      <td>0.0</td>\n",
       "      <td>2025-03-20</td>\n",
       "      <td>previous scrape</td>\n",
       "      <td>Fancy, bright central roof top flat and homeof...</td>\n",
       "      <td>In this idyllic stylish flat you live very qui...</td>\n",
       "      <td>https://a0.muscache.com/pictures/336144dc-b06d...</td>\n",
       "      <td>765694</td>\n",
       "      <td>https://www.airbnb.com/users/show/765694</td>\n",
       "      <td>...</td>\n",
       "      <td>0</td>\n",
       "      <td>0</td>\n",
       "      <td>-0.362339</td>\n",
       "      <td>-0.273174</td>\n",
       "      <td>-0.048502</td>\n",
       "      <td>50.034958</td>\n",
       "      <td>0.008219</td>\n",
       "      <td>0.452107</td>\n",
       "      <td>45.0</td>\n",
       "      <td>3</td>\n",
       "    </tr>\n",
       "    <tr>\n",
       "      <th>4</th>\n",
       "      <td>170154</td>\n",
       "      <td>https://www.airbnb.com/rooms/170154</td>\n",
       "      <td>0.0</td>\n",
       "      <td>2025-03-20</td>\n",
       "      <td>city scrape</td>\n",
       "      <td>Own floor &amp; bath, parking &amp; breakfast</td>\n",
       "      <td>Enjoy a quiet neighbourhood, easy access to th...</td>\n",
       "      <td>https://a0.muscache.com/pictures/31636890/593e...</td>\n",
       "      <td>108297</td>\n",
       "      <td>https://www.airbnb.com/users/show/108297</td>\n",
       "      <td>...</td>\n",
       "      <td>1</td>\n",
       "      <td>0</td>\n",
       "      <td>1.699134</td>\n",
       "      <td>-0.504137</td>\n",
       "      <td>-1.303234</td>\n",
       "      <td>50.862626</td>\n",
       "      <td>0.202740</td>\n",
       "      <td>0.529910</td>\n",
       "      <td>577.0</td>\n",
       "      <td>8</td>\n",
       "    </tr>\n",
       "  </tbody>\n",
       "</table>\n",
       "<p>5 rows × 79 columns</p>\n",
       "</div>"
      ],
      "text/plain": [
       "       id                          listing_url  scrape_id last_scraped  \\\n",
       "0   97945   https://www.airbnb.com/rooms/97945        0.0   2025-03-19   \n",
       "1  114695  https://www.airbnb.com/rooms/114695        0.0   2025-03-19   \n",
       "2  127383  https://www.airbnb.com/rooms/127383        0.0   2025-03-20   \n",
       "3  159634  https://www.airbnb.com/rooms/159634        0.0   2025-03-20   \n",
       "4  170154  https://www.airbnb.com/rooms/170154        0.0   2025-03-20   \n",
       "\n",
       "            source                                               name  \\\n",
       "0      city scrape                   Deluxw-Apartm. with roof terrace   \n",
       "1      city scrape                 Apartment Munich/East with sundeck   \n",
       "2  previous scrape                  City apartment next to Pinakothek   \n",
       "3  previous scrape  Fancy, bright central roof top flat and homeof...   \n",
       "4      city scrape              Own floor & bath, parking & breakfast   \n",
       "\n",
       "                                         description  \\\n",
       "0  Enjoy the simple life at this quiet and centra...   \n",
       "1  Enjoy the simple life at this quiet and centra...   \n",
       "2  Enjoy the simple life at this quiet and centra...   \n",
       "3  In this idyllic stylish flat you live very qui...   \n",
       "4  Enjoy a quiet neighbourhood, easy access to th...   \n",
       "\n",
       "                                         picture_url  host_id  \\\n",
       "0  https://a0.muscache.com/pictures/2459996/10b4c...   517685   \n",
       "1  https://a0.muscache.com/pictures/21571874/960e...   581737   \n",
       "2  https://a0.muscache.com/pictures/79238c11-bc61...   630556   \n",
       "3  https://a0.muscache.com/pictures/336144dc-b06d...   765694   \n",
       "4  https://a0.muscache.com/pictures/31636890/593e...   108297   \n",
       "\n",
       "                                   host_url  ...  \\\n",
       "0  https://www.airbnb.com/users/show/517685  ...   \n",
       "1  https://www.airbnb.com/users/show/581737  ...   \n",
       "2  https://www.airbnb.com/users/show/630556  ...   \n",
       "3  https://www.airbnb.com/users/show/765694  ...   \n",
       "4  https://www.airbnb.com/users/show/108297  ...   \n",
       "\n",
       "  calculated_host_listings_count_private_rooms  \\\n",
       "0                                            0   \n",
       "1                                            0   \n",
       "2                                            0   \n",
       "3                                            0   \n",
       "4                                            1   \n",
       "\n",
       "  calculated_host_listings_count_shared_rooms reviews_per_month  \\\n",
       "0                                           0         -0.044211   \n",
       "1                                           0         -0.235088   \n",
       "2                                           0         -0.095111   \n",
       "3                                           0         -0.362339   \n",
       "4                                           0          1.699134   \n",
       "\n",
       "  price_per_person description_length dist_center avail_frac sent_mean  \\\n",
       "0        -0.067181          -1.785823   50.794769   0.213699  0.464175   \n",
       "1        -0.462938          -1.785823   49.902293   0.580822  0.571723   \n",
       "2        -0.385534          -1.785823   49.035222   0.008219  0.418847   \n",
       "3        -0.273174          -0.048502   50.034958   0.008219  0.452107   \n",
       "4        -0.504137          -1.303234   50.862626   0.202740  0.529910   \n",
       "\n",
       "  rev_count  geo_cluster  \n",
       "0     126.0            8  \n",
       "1      78.0            7  \n",
       "2     116.0            1  \n",
       "3      45.0            3  \n",
       "4     577.0            8  \n",
       "\n",
       "[5 rows x 79 columns]"
      ]
     },
     "execution_count": 2,
     "metadata": {},
     "output_type": "execute_result"
    }
   ],
   "source": [
    "# Load the feature-engineered data\n",
    "df = pd.read_csv('../data/processed/features/listings_features.csv')\n",
    "print(f\"Dataset shape: {df.shape}\")\n",
    "df.head()"
   ]
  },
  {
   "cell_type": "markdown",
   "metadata": {},
   "source": [
    "## Data Preparation"
   ]
  },
  {
   "cell_type": "code",
   "execution_count": 3,
   "metadata": {
    "execution": {
     "iopub.execute_input": "2025-07-04T20:49:59.513198Z",
     "iopub.status.busy": "2025-07-04T20:49:59.513063Z",
     "iopub.status.idle": "2025-07-04T20:49:59.527579Z",
     "shell.execute_reply": "2025-07-04T20:49:59.527299Z"
    }
   },
   "outputs": [
    {
     "name": "stdout",
     "output_type": "stream",
     "text": [
      "Missing values:\n",
      "2752\n",
      "Shape after removing missing values: (5720, 79)\n"
     ]
    }
   ],
   "source": [
    "# Check for missing values\n",
    "print(\"Missing values:\")\n",
    "print(df.isnull().sum().sum())\n",
    "\n",
    "# Remove rows with missing values\n",
    "df_clean = df.dropna()\n",
    "print(f\"Shape after removing missing values: {df_clean.shape}\")"
   ]
  },
  {
   "cell_type": "code",
   "execution_count": 4,
   "metadata": {
    "execution": {
     "iopub.execute_input": "2025-07-04T20:49:59.528766Z",
     "iopub.status.busy": "2025-07-04T20:49:59.528686Z",
     "iopub.status.idle": "2025-07-04T20:49:59.531333Z",
     "shell.execute_reply": "2025-07-04T20:49:59.531112Z"
    }
   },
   "outputs": [
    {
     "name": "stdout",
     "output_type": "stream",
     "text": [
      "Number of numerical features: 49\n",
      "Features: ['id', 'scrape_id', 'host_id', 'host_listings_count', 'host_total_listings_count', 'latitude', 'longitude', 'accommodates', 'bathrooms', 'bedrooms'] ...\n"
     ]
    }
   ],
   "source": [
    "# Select numerical features for baseline models\n",
    "numerical_cols = df_clean.select_dtypes(include=[np.number]).columns.tolist()\n",
    "numerical_cols = [col for col in numerical_cols if col != 'price']\n",
    "\n",
    "print(f\"Number of numerical features: {len(numerical_cols)}\")\n",
    "print(\"Features:\", numerical_cols[:10], \"...\" if len(numerical_cols) > 10 else \"\")"
   ]
  },
  {
   "cell_type": "code",
   "execution_count": 5,
   "metadata": {
    "execution": {
     "iopub.execute_input": "2025-07-04T20:49:59.532510Z",
     "iopub.status.busy": "2025-07-04T20:49:59.532411Z",
     "iopub.status.idle": "2025-07-04T20:49:59.536512Z",
     "shell.execute_reply": "2025-07-04T20:49:59.536296Z"
    }
   },
   "outputs": [
    {
     "name": "stdout",
     "output_type": "stream",
     "text": [
      "Training set: (4576, 49)\n",
      "Test set: (1144, 49)\n"
     ]
    }
   ],
   "source": [
    "# Prepare features and target\n",
    "X = df_clean[numerical_cols]\n",
    "y = df_clean['price']\n",
    "\n",
    "# Split the data\n",
    "X_train, X_test, y_train, y_test = train_test_split(\n",
    "    X, y, test_size=0.2, random_state=42\n",
    ")\n",
    "\n",
    "print(f\"Training set: {X_train.shape}\")\n",
    "print(f\"Test set: {X_test.shape}\")"
   ]
  },
  {
   "cell_type": "markdown",
   "metadata": {},
   "source": [
    "## Baseline Models"
   ]
  },
  {
   "cell_type": "code",
   "execution_count": 6,
   "metadata": {
    "execution": {
     "iopub.execute_input": "2025-07-04T20:49:59.537643Z",
     "iopub.status.busy": "2025-07-04T20:49:59.537551Z",
     "iopub.status.idle": "2025-07-04T20:49:59.540929Z",
     "shell.execute_reply": "2025-07-04T20:49:59.540617Z"
    }
   },
   "outputs": [],
   "source": [
    "# Define models\n",
    "models = {\n",
    "    'Linear Regression': LinearRegression(),\n",
    "    'Ridge Regression': Ridge(alpha=1.0),\n",
    "    'Lasso Regression': Lasso(alpha=0.1),\n",
    "    'Random Forest': RandomForestRegressor(n_estimators=100, random_state=42),\n",
    "    'Gradient Boosting': GradientBoostingRegressor(n_estimators=100, random_state=42)\n",
    "}\n",
    "\n",
    "# Function to evaluate models\n",
    "def evaluate_model(model, X_train, X_test, y_train, y_test, model_name):\n",
    "    # Train the model\n",
    "    model.fit(X_train, y_train)\n",
    "    \n",
    "    # Make predictions\n",
    "    y_pred = model.predict(X_test)\n",
    "    \n",
    "    # Calculate metrics\n",
    "    mse = mean_squared_error(y_test, y_pred)\n",
    "    rmse = np.sqrt(mse)\n",
    "    mae = mean_absolute_error(y_test, y_pred)\n",
    "    r2 = r2_score(y_test, y_pred)\n",
    "    \n",
    "    return {\n",
    "        'model': model,\n",
    "        'mse': mse,\n",
    "        'rmse': rmse,\n",
    "        'mae': mae,\n",
    "        'r2': r2,\n",
    "        'predictions': y_pred\n",
    "    }"
   ]
  },
  {
   "cell_type": "code",
   "execution_count": 7,
   "metadata": {
    "execution": {
     "iopub.execute_input": "2025-07-04T20:49:59.542270Z",
     "iopub.status.busy": "2025-07-04T20:49:59.542162Z",
     "iopub.status.idle": "2025-07-04T20:50:07.044317Z",
     "shell.execute_reply": "2025-07-04T20:50:07.044050Z"
    }
   },
   "outputs": [
    {
     "name": "stdout",
     "output_type": "stream",
     "text": [
      "Training Linear Regression...\n",
      "Linear Regression - RMSE: 0.93, R²: -0.003\n",
      "--------------------------------------------------\n",
      "Training Ridge Regression...\n",
      "Ridge Regression - RMSE: 0.34, R²: 0.864\n",
      "--------------------------------------------------\n",
      "Training Lasso Regression...\n",
      "Lasso Regression - RMSE: 0.31, R²: 0.887\n",
      "--------------------------------------------------\n",
      "Training Random Forest...\n",
      "Random Forest - RMSE: 0.09, R²: 0.990\n",
      "--------------------------------------------------\n",
      "Training Gradient Boosting...\n",
      "Gradient Boosting - RMSE: 0.08, R²: 0.992\n",
      "--------------------------------------------------\n"
     ]
    }
   ],
   "source": [
    "# Evaluate all models\n",
    "results = {}\n",
    "\n",
    "for name, model in models.items():\n",
    "    print(f\"Training {name}...\")\n",
    "    results[name] = evaluate_model(model, X_train, X_test, y_train, y_test, name)\n",
    "    print(f\"{name} - RMSE: {results[name]['rmse']:.2f}, R²: {results[name]['r2']:.3f}\")\n",
    "    print(\"-\" * 50)"
   ]
  },
  {
   "cell_type": "markdown",
   "metadata": {},
   "source": [
    "## Results Comparison"
   ]
  },
  {
   "cell_type": "code",
   "execution_count": 8,
   "metadata": {
    "execution": {
     "iopub.execute_input": "2025-07-04T20:50:07.045625Z",
     "iopub.status.busy": "2025-07-04T20:50:07.045542Z",
     "iopub.status.idle": "2025-07-04T20:50:07.049816Z",
     "shell.execute_reply": "2025-07-04T20:50:07.049579Z"
    }
   },
   "outputs": [
    {
     "data": {
      "text/html": [
       "<div>\n",
       "<style scoped>\n",
       "    .dataframe tbody tr th:only-of-type {\n",
       "        vertical-align: middle;\n",
       "    }\n",
       "\n",
       "    .dataframe tbody tr th {\n",
       "        vertical-align: top;\n",
       "    }\n",
       "\n",
       "    .dataframe thead th {\n",
       "        text-align: right;\n",
       "    }\n",
       "</style>\n",
       "<table border=\"1\" class=\"dataframe\">\n",
       "  <thead>\n",
       "    <tr style=\"text-align: right;\">\n",
       "      <th></th>\n",
       "      <th>Model</th>\n",
       "      <th>RMSE</th>\n",
       "      <th>MAE</th>\n",
       "      <th>R²</th>\n",
       "    </tr>\n",
       "  </thead>\n",
       "  <tbody>\n",
       "    <tr>\n",
       "      <th>4</th>\n",
       "      <td>Gradient Boosting</td>\n",
       "      <td>0.082355</td>\n",
       "      <td>0.023519</td>\n",
       "      <td>0.992189</td>\n",
       "    </tr>\n",
       "    <tr>\n",
       "      <th>3</th>\n",
       "      <td>Random Forest</td>\n",
       "      <td>0.092668</td>\n",
       "      <td>0.015439</td>\n",
       "      <td>0.990110</td>\n",
       "    </tr>\n",
       "    <tr>\n",
       "      <th>2</th>\n",
       "      <td>Lasso Regression</td>\n",
       "      <td>0.313309</td>\n",
       "      <td>0.133062</td>\n",
       "      <td>0.886951</td>\n",
       "    </tr>\n",
       "    <tr>\n",
       "      <th>1</th>\n",
       "      <td>Ridge Regression</td>\n",
       "      <td>0.343852</td>\n",
       "      <td>0.138008</td>\n",
       "      <td>0.863835</td>\n",
       "    </tr>\n",
       "    <tr>\n",
       "      <th>0</th>\n",
       "      <td>Linear Regression</td>\n",
       "      <td>0.933042</td>\n",
       "      <td>0.243390</td>\n",
       "      <td>-0.002591</td>\n",
       "    </tr>\n",
       "  </tbody>\n",
       "</table>\n",
       "</div>"
      ],
      "text/plain": [
       "               Model      RMSE       MAE        R²\n",
       "4  Gradient Boosting  0.082355  0.023519  0.992189\n",
       "3      Random Forest  0.092668  0.015439  0.990110\n",
       "2   Lasso Regression  0.313309  0.133062  0.886951\n",
       "1   Ridge Regression  0.343852  0.138008  0.863835\n",
       "0  Linear Regression  0.933042  0.243390 -0.002591"
      ]
     },
     "execution_count": 8,
     "metadata": {},
     "output_type": "execute_result"
    }
   ],
   "source": [
    "# Create results comparison\n",
    "results_df = pd.DataFrame({\n",
    "    'Model': list(results.keys()),\n",
    "    'RMSE': [results[name]['rmse'] for name in results.keys()],\n",
    "    'MAE': [results[name]['mae'] for name in results.keys()],\n",
    "    'R²': [results[name]['r2'] for name in results.keys()]\n",
    "})\n",
    "\n",
    "results_df = results_df.sort_values('RMSE')\n",
    "results_df"
   ]
  },
  {
   "cell_type": "markdown",
   "metadata": {},
   "source": [
    "## Conclusion\n",
    "\n",
    "In summary, the baseline experiments reveal a clear progression in model performance as we move from simple linear approaches to more sophisticated ensemble methods:\n",
    "\n",
    "* **Ordinary Linear Regression** fails to capture the complexity of Airbnb pricing, yielding an R² near zero and a high RMSE, which indicates its predictions are barely better than the dataset mean.\n",
    "* **Ridge and Lasso Regression**, by introducing L₂ and L₁ regularization respectively, substantially improve fit, achieving R² values around 0.86–0.89 and reducing RMSE to roughly one-third of the linear model’s error. This demonstrates that penalizing large coefficients helps mitigate overfitting and handles multicollinearity among numerical features.\n",
    "* **Random Forest Regression**, an ensemble of decision trees, further boosts accuracy by modeling nonlinear interactions and variable importance automatically. With R² ≈ 0.99 and RMSE ≈ 0.09, it explains nearly all the variance in the test set.\n",
    "* **Gradient Boosting Regression**, which iteratively fits trees to the residuals of previous trees, achieves the best overall performance (R² ≈ 0.992, RMSE ≈ 0.082). Its fine-grained error-correcting mechanism allows it to capture subtle patterns in the data more effectively than a bagged forest.\n",
    "\n",
    "**Metric explanations:**\n",
    "\n",
    "* **RMSE (Root Mean Squared Error)** measures the square root of the average squared differences between predicted and actual prices. A lower RMSE means predictions are, on average, closer to the true values.\n",
    "* **MAE (Mean Absolute Error)** computes the average absolute difference between predictions and actual prices. Unlike RMSE, it treats all errors equally, making it more robust to outliers.\n",
    "* **R² (Coefficient of Determination)** indicates the proportion of variance in the actual prices that the model explains. An R² of 1 means perfect prediction, while 0 means no better than predicting the mean.\n"
   ]
  }
 ],
 "metadata": {
  "kernelspec": {
   "display_name": "venv",
   "language": "python",
   "name": "python3"
  },
  "language_info": {
   "codemirror_mode": {
    "name": "ipython",
    "version": 3
   },
   "file_extension": ".py",
   "mimetype": "text/x-python",
   "name": "python",
   "nbconvert_exporter": "python",
   "pygments_lexer": "ipython3",
   "version": "3.13.3"
  }
 },
 "nbformat": 4,
 "nbformat_minor": 4
}
