{
 "cells": [
  {
   "cell_type": "code",
   "execution_count": 1,
   "id": "2b74e640",
   "metadata": {
    "execution": {
     "iopub.execute_input": "2025-07-04T20:49:08.199404Z",
     "iopub.status.busy": "2025-07-04T20:49:08.199059Z",
     "iopub.status.idle": "2025-07-04T20:49:50.761148Z",
     "shell.execute_reply": "2025-07-04T20:49:50.760735Z"
    }
   },
   "outputs": [
    {
     "name": "stdout",
     "output_type": "stream",
     "text": [
      "✅ Feature Engineering complete.\n"
     ]
    }
   ],
   "source": [
    "# Datei: notebooks/02_feature_engineering.ipynb\n",
    "\n",
    "import os, sys\n",
    "\n",
    "# So that we can find the src module when running from the notebooks directory\n",
    "sys.path.insert(0, os.path.abspath(os.path.join(os.getcwd(), \"..\")))\n",
    "\n",
    "import pandas as pd\n",
    "import numpy as np\n",
    "from nltk.sentiment.vader import SentimentIntensityAnalyzer\n",
    "from sklearn.cluster import KMeans\n",
    "\n",
    "def derive_features(df_listings: pd.DataFrame,\n",
    "                    df_calendar: pd.DataFrame,\n",
    "                    df_reviews: pd.DataFrame) -> pd.DataFrame:\n",
    "    # 1) Distance to the city center\n",
    "    center = (48.137154, 11.576124)\n",
    "    \n",
    "    df_listings[\"dist_center\"] = np.sqrt(\n",
    "        (df_listings.latitude  - center[0])**2 +\n",
    "        (df_listings.longitude - center[1])**2\n",
    "    )\n",
    "\n",
    "    # 2) Month and weekday features\n",
    "\n",
    "    df_calendar[\"date\"]    = pd.to_datetime(df_calendar[\"date\"])\n",
    "    df_calendar[\"month\"]   = df_calendar[\"date\"].dt.month\n",
    "    df_calendar[\"weekday\"] = df_calendar[\"date\"].dt.weekday\n",
    "    avail = df_calendar.groupby(\"listing_id\")[\"available_flag\"].mean()\n",
    "    df_listings[\"avail_frac\"] = df_listings[\"id\"].map(avail)\n",
    "\n",
    "    # 3) Reviews-Sentiment\n",
    "    sia = SentimentIntensityAnalyzer()\n",
    "    df_reviews[\"sentiment\"] = (\n",
    "        df_reviews[\"comments\"]\n",
    "        .fillna(\"\")\n",
    "        .apply(lambda txt: sia.polarity_scores(txt)[\"compound\"])\n",
    "    )\n",
    "    rev_agg = (\n",
    "        df_reviews\n",
    "        .groupby(\"listing_id\")[\"sentiment\"]\n",
    "        .agg(sent_mean=\"mean\", rev_count=\"count\")\n",
    "    )\n",
    "    df_listings = df_listings.join(rev_agg, on=\"id\")\n",
    "\n",
    "    # 4) Geo-Clustering\n",
    "    coords = df_listings[[\"latitude\", \"longitude\"]]\n",
    "    km = KMeans(n_clusters=10, random_state=0).fit(coords)\n",
    "    df_listings[\"geo_cluster\"] = km.labels_\n",
    "\n",
    "    return df_listings\n",
    "\n",
    "def main():\n",
    "    # Base path: one directory above 'notebooks/'\n",
    "    base = os.path.abspath(os.path.join(os.getcwd(), \"..\"))\n",
    "\n",
    "    listings_fp = os.path.join(base, \"data\", \"processed\", \"listings_clean.csv\")\n",
    "    calendar_fp = os.path.join(base, \"data\", \"processed\", \"calendar_clean.csv\")\n",
    "    reviews_fp  = os.path.join(base, \"data\", \"raw\",       \"reviews.gz\")\n",
    "\n",
    "    # Load data\n",
    "    df_listings = pd.read_csv(listings_fp)\n",
    "    df_calendar = pd.read_csv(calendar_fp, parse_dates=[\"date\"])\n",
    "    df_reviews  = pd.read_csv(reviews_fp, compression=\"gzip\")\n",
    "\n",
    "    # Derive features\n",
    "    df_feat = derive_features(df_listings, df_calendar, df_reviews)\n",
    "\n",
    "# Save result\n",
    "    out_dir = os.path.join(base, \"data\", \"processed\", \"features\")\n",
    "    os.makedirs(out_dir, exist_ok=True)\n",
    "    df_feat.to_csv(os.path.join(out_dir, \"listings_features.csv\"), index=False)\n",
    "\n",
    "    print(\"✅ Feature Engineering complete.\")\n",
    "\n",
    "# In Jupyter Notebook, you simply call main() here:\n",
    "main()\n",
    "\n"
   ]
  }
 ],
 "metadata": {
  "kernelspec": {
   "display_name": "venv",
   "language": "python",
   "name": "python3"
  },
  "language_info": {
   "codemirror_mode": {
    "name": "ipython",
    "version": 3
   },
   "file_extension": ".py",
   "mimetype": "text/x-python",
   "name": "python",
   "nbconvert_exporter": "python",
   "pygments_lexer": "ipython3",
   "version": "3.13.3"
  }
 },
 "nbformat": 4,
 "nbformat_minor": 5
}
